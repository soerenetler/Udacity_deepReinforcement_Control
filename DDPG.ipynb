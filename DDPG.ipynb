{
 "cells": [
  {
   "cell_type": "markdown",
   "metadata": {},
   "source": [
    "# Continuous Control\n",
    "\n",
    "---\n",
    "\n",
    "You are welcome to use this coding environment to train your agent for the project.  Follow the instructions below to get started!\n",
    "\n",
    "### 1. Start the Environment\n",
    "\n",
    "Run the next code cell to install a few packages.  This line will take a few minutes to run!"
   ]
  },
  {
   "cell_type": "code",
   "execution_count": 1,
   "metadata": {},
   "outputs": [
    {
     "name": "stdout",
     "output_type": "stream",
     "text": [
      "\u001b[31mtensorflow 1.7.1 has requirement numpy>=1.13.3, but you'll have numpy 1.12.1 which is incompatible.\u001b[0m\r\n",
      "\u001b[31mipython 6.5.0 has requirement prompt-toolkit<2.0.0,>=1.0.15, but you'll have prompt-toolkit 3.0.27 which is incompatible.\u001b[0m\r\n"
     ]
    }
   ],
   "source": [
    "!pip -q install ./python"
   ]
  },
  {
   "cell_type": "markdown",
   "metadata": {},
   "source": [
    "The environments corresponding to both versions of the environment are already saved in the Workspace and can be accessed at the file paths provided below.  \n",
    "\n",
    "Please select one of the two options below for loading the environment."
   ]
  },
  {
   "cell_type": "code",
   "execution_count": 2,
   "metadata": {},
   "outputs": [
    {
     "name": "stderr",
     "output_type": "stream",
     "text": [
      "INFO:unityagents:\n",
      "'Academy' started successfully!\n",
      "Unity Academy name: Academy\n",
      "        Number of Brains: 1\n",
      "        Number of External Brains : 1\n",
      "        Lesson number : 0\n",
      "        Reset Parameters :\n",
      "\t\tgoal_speed -> 1.0\n",
      "\t\tgoal_size -> 5.0\n",
      "Unity brain name: ReacherBrain\n",
      "        Number of Visual Observations (per agent): 0\n",
      "        Vector Observation space type: continuous\n",
      "        Vector Observation space size (per agent): 33\n",
      "        Number of stacked Vector Observation: 1\n",
      "        Vector Action space type: continuous\n",
      "        Vector Action space size (per agent): 4\n",
      "        Vector Action descriptions: , , , \n"
     ]
    }
   ],
   "source": [
    "from unityagents import UnityEnvironment\n",
    "import numpy as np\n",
    "\n",
    "# select this option to load version 1 (with a single agent) of the environment\n",
    "# env = UnityEnvironment(file_name='/data/Reacher_One_Linux_NoVis/Reacher_One_Linux_NoVis.x86_64')\n",
    "\n",
    "# select this option to load version 2 (with 20 agents) of the environment\n",
    "env = UnityEnvironment(file_name='/data/Reacher_Linux_NoVis/Reacher.x86_64')"
   ]
  },
  {
   "cell_type": "markdown",
   "metadata": {},
   "source": [
    "Environments contain **_brains_** which are responsible for deciding the actions of their associated agents. Here we check for the first brain available, and set it as the default brain we will be controlling from Python."
   ]
  },
  {
   "cell_type": "code",
   "execution_count": 3,
   "metadata": {},
   "outputs": [],
   "source": [
    "# get the default brain\n",
    "brain_name = env.brain_names[0]\n",
    "brain = env.brains[brain_name]"
   ]
  },
  {
   "cell_type": "markdown",
   "metadata": {},
   "source": [
    "### 2. Examine the State and Action Spaces\n",
    "\n",
    "Run the code cell below to print some information about the environment."
   ]
  },
  {
   "cell_type": "code",
   "execution_count": 4,
   "metadata": {},
   "outputs": [
    {
     "name": "stdout",
     "output_type": "stream",
     "text": [
      "Number of agents: 20\n",
      "Size of each action: 4\n",
      "There are 20 agents. Each observes a state with length: 33\n",
      "The state for the first agent looks like: [  0.00000000e+00  -4.00000000e+00   0.00000000e+00   1.00000000e+00\n",
      "  -0.00000000e+00  -0.00000000e+00  -4.37113883e-08   0.00000000e+00\n",
      "   0.00000000e+00   0.00000000e+00   0.00000000e+00   0.00000000e+00\n",
      "   0.00000000e+00   0.00000000e+00  -1.00000000e+01   0.00000000e+00\n",
      "   1.00000000e+00  -0.00000000e+00  -0.00000000e+00  -4.37113883e-08\n",
      "   0.00000000e+00   0.00000000e+00   0.00000000e+00   0.00000000e+00\n",
      "   0.00000000e+00   0.00000000e+00   5.75471878e+00  -1.00000000e+00\n",
      "   5.55726624e+00   0.00000000e+00   1.00000000e+00   0.00000000e+00\n",
      "  -1.68164849e-01]\n"
     ]
    }
   ],
   "source": [
    "# reset the environment\n",
    "env_info = env.reset(train_mode=True)[brain_name]\n",
    "\n",
    "# number of agents\n",
    "num_agents = len(env_info.agents)\n",
    "print('Number of agents:', num_agents)\n",
    "\n",
    "# size of each action\n",
    "action_size = brain.vector_action_space_size\n",
    "print('Size of each action:', action_size)\n",
    "\n",
    "# examine the state space \n",
    "states = env_info.vector_observations\n",
    "state_size = states.shape[1]\n",
    "print('There are {} agents. Each observes a state with length: {}'.format(states.shape[0], state_size))\n",
    "print('The state for the first agent looks like:', states[0])"
   ]
  },
  {
   "cell_type": "markdown",
   "metadata": {},
   "source": [
    "### 4. It's Your Turn!\n",
    "\n",
    "Now it's your turn to train your own agent to solve the environment!  A few **important notes**:\n",
    "- When training the environment, set `train_mode=True`, so that the line for resetting the environment looks like the following:\n",
    "```python\n",
    "env_info = env.reset(train_mode=True)[brain_name]\n",
    "```\n",
    "- To structure your work, you're welcome to work directly in this Jupyter notebook, or you might like to start over with a new file!  You can see the list of files in the workspace by clicking on **_Jupyter_** in the top left corner of the notebook.\n",
    "- In this coding environment, you will not be able to watch the agents while they are training.  However, **_after training the agents_**, you can download the saved model weights to watch the agents on your own machine! "
   ]
  },
  {
   "cell_type": "code",
   "execution_count": 5,
   "metadata": {},
   "outputs": [],
   "source": [
    "from ddpg_agent import Agent\n",
    "import torch\n",
    "agent = Agent(state_size=env_info.vector_observations.shape[1], action_size=brain.vector_action_space_size, random_seed=10)\n",
    "\n",
    "#agent.actor_local.load_state_dict(torch.load('checkpoint_actor.pth'))\n",
    "#agent.critic_local.load_state_dict(torch.load('checkpoint_critic.pth'))"
   ]
  },
  {
   "cell_type": "code",
   "execution_count": 6,
   "metadata": {},
   "outputs": [],
   "source": [
    "from collections import deque\n",
    "\n",
    "def ddpg(n_episodes=120, max_t=1000):\n",
    "    scores_deque = deque(maxlen=100)\n",
    "    scores = []\n",
    "    time_stamp = 0\n",
    "    \n",
    "    for i_episode in range(1, n_episodes+1):\n",
    "        env_info = env.reset(train_mode=True)[brain_name]\n",
    "        states = env_info.vector_observations\n",
    "        agent.reset()\n",
    "        \n",
    "        score = np.zeros(num_agents)\n",
    "        for t in range(max_t):\n",
    "            actions = agent.act(states)\n",
    "            env_info = env.step(actions)[brain_name]\n",
    "            \n",
    "            next_states = env_info.vector_observations         # get next state (for each agent)\n",
    "            rewards = env_info.rewards                       # get reward (for each agent)\n",
    "            dones = env_info.local_done                       # see if episode finished\n",
    "            \n",
    "            for state, action, reward, next_state, done in zip(states, actions, rewards, next_states, dones):\n",
    "                agent.step(state, action, reward, next_state, done, time_stamp)\n",
    "                \n",
    "            states = next_states\n",
    "            score += rewards\n",
    "            time_stamp += 1\n",
    "            if np.any(dones):\n",
    "                break \n",
    "        scores_deque.append(np.mean(score))\n",
    "        scores.append(np.mean(score))\n",
    "        print('Episode {}\\tAverage Score: {:.2f}\\tScore: {:.2f}'.format(i_episode, np.mean(scores_deque), np.mean(score)))\n",
    "        if i_episode % 10 == 0:\n",
    "            torch.save(agent.actor_local.state_dict(), 'checkpoint_actor.pth')\n",
    "            torch.save(agent.critic_local.state_dict(), 'checkpoint_critic.pth')\n",
    "            print('\\rEpisode {}\\tAverage Score: {:.2f}'.format(i_episode, np.mean(scores_deque)))   \n",
    "        if np.mean(scores_deque) >= 30 and i_episode>=100:\n",
    "            print('\\nEnvironment solved in {:d} episodes!\\tAverage100 Score: {:.2f}'.format(i_episode, np.mean(scores_deque)))\n",
    "            break\n",
    "    return scores"
   ]
  },
  {
   "cell_type": "code",
   "execution_count": 7,
   "metadata": {},
   "outputs": [
    {
     "name": "stdout",
     "output_type": "stream",
     "text": [
      "Episode 1\tAverage Score: 0.97\tScore: 0.97\n",
      "Episode 2\tAverage Score: 1.47\tScore: 1.97\n",
      "Episode 3\tAverage Score: 2.05\tScore: 3.22\n",
      "Episode 4\tAverage Score: 2.80\tScore: 5.04\n",
      "Episode 5\tAverage Score: 3.24\tScore: 5.02\n",
      "Episode 6\tAverage Score: 3.72\tScore: 6.08\n",
      "Episode 7\tAverage Score: 4.17\tScore: 6.86\n",
      "Episode 8\tAverage Score: 4.51\tScore: 6.94\n",
      "Episode 9\tAverage Score: 4.70\tScore: 6.23\n",
      "Episode 10\tAverage Score: 4.98\tScore: 7.52\n",
      "Episode 10\tAverage Score: 4.98\n",
      "Episode 11\tAverage Score: 5.27\tScore: 8.08\n",
      "Episode 12\tAverage Score: 5.41\tScore: 6.99\n",
      "Episode 13\tAverage Score: 5.61\tScore: 7.95\n",
      "Episode 14\tAverage Score: 5.87\tScore: 9.33\n",
      "Episode 15\tAverage Score: 6.14\tScore: 9.88\n",
      "Episode 16\tAverage Score: 6.31\tScore: 8.89\n",
      "Episode 17\tAverage Score: 6.49\tScore: 9.44\n",
      "Episode 18\tAverage Score: 6.76\tScore: 11.27\n",
      "Episode 19\tAverage Score: 7.10\tScore: 13.28\n",
      "Episode 20\tAverage Score: 7.43\tScore: 13.61\n",
      "Episode 20\tAverage Score: 7.43\n",
      "Episode 21\tAverage Score: 7.81\tScore: 15.51\n",
      "Episode 22\tAverage Score: 8.19\tScore: 16.16\n",
      "Episode 23\tAverage Score: 8.60\tScore: 17.66\n",
      "Episode 24\tAverage Score: 9.02\tScore: 18.57\n",
      "Episode 25\tAverage Score: 9.32\tScore: 16.49\n",
      "Episode 26\tAverage Score: 9.64\tScore: 17.60\n",
      "Episode 27\tAverage Score: 10.06\tScore: 21.07\n",
      "Episode 28\tAverage Score: 10.46\tScore: 21.37\n",
      "Episode 29\tAverage Score: 10.90\tScore: 23.18\n",
      "Episode 30\tAverage Score: 11.33\tScore: 23.77\n",
      "Episode 30\tAverage Score: 11.33\n",
      "Episode 31\tAverage Score: 11.77\tScore: 24.85\n",
      "Episode 32\tAverage Score: 12.34\tScore: 30.06\n",
      "Episode 33\tAverage Score: 12.98\tScore: 33.50\n",
      "Episode 34\tAverage Score: 13.50\tScore: 30.73\n",
      "Episode 35\tAverage Score: 14.02\tScore: 31.72\n",
      "Episode 36\tAverage Score: 14.54\tScore: 32.48\n",
      "Episode 37\tAverage Score: 15.03\tScore: 32.83\n",
      "Episode 38\tAverage Score: 15.60\tScore: 36.53\n",
      "Episode 39\tAverage Score: 16.12\tScore: 35.86\n",
      "Episode 40\tAverage Score: 16.61\tScore: 35.91\n",
      "Episode 40\tAverage Score: 16.61\n",
      "Episode 41\tAverage Score: 17.08\tScore: 35.73\n",
      "Episode 42\tAverage Score: 17.53\tScore: 36.28\n",
      "Episode 43\tAverage Score: 18.01\tScore: 37.80\n",
      "Episode 44\tAverage Score: 18.43\tScore: 36.75\n",
      "Episode 45\tAverage Score: 18.84\tScore: 37.03\n",
      "Episode 46\tAverage Score: 19.24\tScore: 36.90\n",
      "Episode 47\tAverage Score: 19.63\tScore: 37.64\n",
      "Episode 48\tAverage Score: 20.00\tScore: 37.48\n",
      "Episode 49\tAverage Score: 20.33\tScore: 36.19\n",
      "Episode 50\tAverage Score: 20.68\tScore: 37.58\n",
      "Episode 50\tAverage Score: 20.68\n",
      "Episode 51\tAverage Score: 21.00\tScore: 37.07\n",
      "Episode 52\tAverage Score: 21.32\tScore: 37.87\n",
      "Episode 53\tAverage Score: 21.63\tScore: 37.82\n",
      "Episode 54\tAverage Score: 21.94\tScore: 38.01\n",
      "Episode 55\tAverage Score: 22.23\tScore: 37.81\n",
      "Episode 56\tAverage Score: 22.50\tScore: 37.81\n",
      "Episode 57\tAverage Score: 22.78\tScore: 38.13\n",
      "Episode 58\tAverage Score: 23.03\tScore: 37.67\n",
      "Episode 59\tAverage Score: 23.30\tScore: 38.59\n",
      "Episode 60\tAverage Score: 23.54\tScore: 37.83\n",
      "Episode 60\tAverage Score: 23.54\n",
      "Episode 61\tAverage Score: 23.78\tScore: 38.24\n",
      "Episode 62\tAverage Score: 24.02\tScore: 38.37\n",
      "Episode 63\tAverage Score: 24.25\tScore: 38.91\n",
      "Episode 64\tAverage Score: 24.47\tScore: 38.30\n",
      "Episode 65\tAverage Score: 24.70\tScore: 38.96\n",
      "Episode 66\tAverage Score: 24.91\tScore: 38.74\n",
      "Episode 67\tAverage Score: 25.10\tScore: 37.96\n",
      "Episode 68\tAverage Score: 25.29\tScore: 38.03\n",
      "Episode 69\tAverage Score: 25.49\tScore: 38.55\n",
      "Episode 70\tAverage Score: 25.67\tScore: 38.53\n",
      "Episode 70\tAverage Score: 25.67\n",
      "Episode 71\tAverage Score: 25.85\tScore: 38.19\n",
      "Episode 72\tAverage Score: 25.99\tScore: 36.34\n",
      "Episode 73\tAverage Score: 26.14\tScore: 36.65\n",
      "Episode 74\tAverage Score: 26.29\tScore: 36.93\n",
      "Episode 75\tAverage Score: 26.45\tScore: 38.37\n",
      "Episode 76\tAverage Score: 26.60\tScore: 38.01\n",
      "Episode 77\tAverage Score: 26.71\tScore: 35.41\n",
      "Episode 78\tAverage Score: 26.83\tScore: 35.47\n",
      "Episode 79\tAverage Score: 26.96\tScore: 37.31\n",
      "Episode 80\tAverage Score: 27.08\tScore: 36.33\n",
      "Episode 80\tAverage Score: 27.08\n",
      "Episode 81\tAverage Score: 27.18\tScore: 35.60\n",
      "Episode 82\tAverage Score: 27.29\tScore: 36.40\n",
      "Episode 83\tAverage Score: 27.40\tScore: 36.21\n",
      "Episode 84\tAverage Score: 27.50\tScore: 36.05\n",
      "Episode 85\tAverage Score: 27.56\tScore: 32.49\n",
      "Episode 86\tAverage Score: 27.67\tScore: 37.25\n",
      "Episode 87\tAverage Score: 27.77\tScore: 35.58\n",
      "Episode 88\tAverage Score: 27.86\tScore: 36.00\n",
      "Episode 89\tAverage Score: 27.97\tScore: 38.02\n",
      "Episode 90\tAverage Score: 28.06\tScore: 35.96\n",
      "Episode 90\tAverage Score: 28.06\n",
      "Episode 91\tAverage Score: 28.15\tScore: 35.85\n",
      "Episode 92\tAverage Score: 28.24\tScore: 36.19\n",
      "Episode 93\tAverage Score: 28.33\tScore: 37.51\n",
      "Episode 94\tAverage Score: 28.43\tScore: 37.63\n",
      "Episode 95\tAverage Score: 28.53\tScore: 38.03\n",
      "Episode 96\tAverage Score: 28.63\tScore: 37.53\n",
      "Episode 97\tAverage Score: 28.72\tScore: 37.26\n",
      "Episode 98\tAverage Score: 28.80\tScore: 37.27\n",
      "Episode 99\tAverage Score: 28.88\tScore: 35.98\n",
      "Episode 100\tAverage Score: 28.96\tScore: 37.00\n",
      "Episode 100\tAverage Score: 28.96\n",
      "Episode 101\tAverage Score: 29.31\tScore: 36.56\n",
      "Episode 102\tAverage Score: 29.63\tScore: 33.85\n",
      "Episode 103\tAverage Score: 29.93\tScore: 32.93\n",
      "Episode 104\tAverage Score: 30.23\tScore: 35.38\n",
      "\n",
      "Environment solved in 104 episodes!\tAverage100 Score: 30.23\n"
     ]
    }
   ],
   "source": [
    "scores = ddpg()"
   ]
  },
  {
   "cell_type": "code",
   "execution_count": 9,
   "metadata": {},
   "outputs": [
    {
     "data": {
      "image/png": "[encoded data removed]",
      "text/plain": [
       "<matplotlib.figure.Figure at 0x7f4c41ae3e48>"
      ]
     },
     "metadata": {
      "needs_background": "light"
     },
     "output_type": "display_data"
    }
   ],
   "source": [
    "from matplotlib import pyplot as plt \n",
    "import numpy as np\n",
    "fig = plt.figure()\n",
    "ax = fig.add_subplot(111)\n",
    "plt.plot(np.arange(1, len(scores)+1), scores)\n",
    "plt.ylabel('Score')\n",
    "plt.xlabel('Episode #')\n",
    "plt.show()"
   ]
  },
  {
   "cell_type": "markdown",
   "metadata": {},
   "source": [
    "# Demo"
   ]
  },
  {
   "cell_type": "code",
   "execution_count": null,
   "metadata": {},
   "outputs": [],
   "source": [
    "agent.actor_local.load_state_dict(torch.load('checkpoint_actor.pth'))\n",
    "agent.critic_local.load_state_dict(torch.load('checkpoint_critic.pth'))\n",
    "\n",
    "state = env.reset()\n",
    "agent.reset()   \n",
    "while True:\n",
    "    action = agent.act(state)\n",
    "    env.render()\n",
    "    next_state, reward, done, _ = env.step(action)\n",
    "    state = next_state\n",
    "    if done:\n",
    "        break\n",
    "        \n",
    "env.close()"
   ]
  },
  {
   "cell_type": "markdown",
   "metadata": {},
   "source": [
    "### 3. Take Random Actions in the Environment\n",
    "\n",
    "In the next code cell, you will learn how to use the Python API to control the agent and receive feedback from the environment.\n",
    "\n",
    "Note that **in this coding environment, you will not be able to watch the agents while they are training**, and you should set `train_mode=True` to restart the environment."
   ]
  },
  {
   "cell_type": "code",
   "execution_count": null,
   "metadata": {},
   "outputs": [],
   "source": [
    "env_info = env.reset(train_mode=True)[brain_name]      # reset the environment    \n",
    "states = env_info.vector_observations                  # get the current state (for each agent)\n",
    "scores = np.zeros(num_agents)                          # initialize the score (for each agent)\n",
    "while True:\n",
    "    actions = np.random.randn(num_agents, action_size) # select an action (for each agent)\n",
    "    actions = np.clip(actions, -1, 1)                  # all actions between -1 and 1\n",
    "    env_info = env.step(actions)[brain_name]           # send all actions to tne environment\n",
    "    next_states = env_info.vector_observations         # get next state (for each agent)\n",
    "    rewards = env_info.rewards                         # get reward (for each agent)\n",
    "    dones = env_info.local_done                        # see if episode finished\n",
    "    scores += env_info.rewards                         # update the score (for each agent)\n",
    "    states = next_states                               # roll over states to next time step\n",
    "    if np.any(dones):                                  # exit loop if episode finished\n",
    "        break\n",
    "print('Total score (averaged over agents) this episode: {}'.format(np.mean(scores)))"
   ]
  },
  {
   "cell_type": "markdown",
   "metadata": {},
   "source": [
    "When finished, you can close the environment."
   ]
  }
 ],
 "metadata": {
  "kernelspec": {
   "display_name": "Python 3",
   "language": "python",
   "name": "python3"
  },
  "language_info": {
   "codemirror_mode": {
    "name": "ipython",
    "version": 3
   },
   "file_extension": ".py",
   "mimetype": "text/x-python",
   "name": "python",
   "nbconvert_exporter": "python",
   "pygments_lexer": "ipython3",
   "version": "3.6.3"
  }
 },
 "nbformat": 4,
 "nbformat_minor": 2
}
